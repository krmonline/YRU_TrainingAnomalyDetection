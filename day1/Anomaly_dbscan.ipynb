{
  "nbformat": 4,
  "nbformat_minor": 0,
  "metadata": {
    "colab": {
      "name": "Anomaly-dbscan.ipynb",
      "provenance": [],
      "machine_shape": "hm",
      "authorship_tag": "ABX9TyPEfp9JkOXkeu0SrlraD/ck",
      "include_colab_link": true
    },
    "kernelspec": {
      "name": "python3",
      "display_name": "Python 3"
    }
  },
  "cells": [
    {
      "cell_type": "markdown",
      "metadata": {
        "id": "view-in-github",
        "colab_type": "text"
      },
      "source": [
        "<a href=\"https://colab.research.google.com/github/krmonline/AnomalyDetection/blob/master/Anomaly_dbscan.ipynb\" target=\"_parent\"><img src=\"https://colab.research.google.com/assets/colab-badge.svg\" alt=\"Open In Colab\"/></a>"
      ]
    },
    {
      "cell_type": "code",
      "metadata": {
        "id": "evgLf2yStVuz",
        "colab_type": "code",
        "colab": {}
      },
      "source": [
        "import numpy as np\n",
        "import h5py\n",
        "import pandas as pd\n",
        "import matplotlib.pyplot as plt"
      ],
      "execution_count": 37,
      "outputs": []
    },
    {
      "cell_type": "code",
      "metadata": {
        "id": "mz7z6IfetdS1",
        "colab_type": "code",
        "colab": {
          "base_uri": "https://localhost:8080/",
          "height": 289
        },
        "outputId": "01cb4304-a80a-494d-e14c-8fb18a515e09"
      },
      "source": [
        "!wget https://github.com/krmonline/AnomalyDetection/raw/master/http.mat"
      ],
      "execution_count": 38,
      "outputs": [
        {
          "output_type": "stream",
          "text": [
            "--2020-08-08 19:16:28--  https://github.com/krmonline/AnomalyDetection/raw/master/http.mat\n",
            "Resolving github.com (github.com)... 140.82.118.4\n",
            "Connecting to github.com (github.com)|140.82.118.4|:443... connected.\n",
            "HTTP request sent, awaiting response... 302 Found\n",
            "Location: https://raw.githubusercontent.com/krmonline/AnomalyDetection/master/http.mat [following]\n",
            "--2020-08-08 19:16:29--  https://raw.githubusercontent.com/krmonline/AnomalyDetection/master/http.mat\n",
            "Resolving raw.githubusercontent.com (raw.githubusercontent.com)... 151.101.0.133, 151.101.64.133, 151.101.128.133, ...\n",
            "Connecting to raw.githubusercontent.com (raw.githubusercontent.com)|151.101.0.133|:443... connected.\n",
            "HTTP request sent, awaiting response... 200 OK\n",
            "Length: 2771929 (2.6M) [application/octet-stream]\n",
            "Saving to: ‘http.mat.1’\n",
            "\n",
            "\rhttp.mat.1            0%[                    ]       0  --.-KB/s               \rhttp.mat.1          100%[===================>]   2.64M  --.-KB/s    in 0.09s   \n",
            "\n",
            "2020-08-08 19:16:29 (28.9 MB/s) - ‘http.mat.1’ saved [2771929/2771929]\n",
            "\n"
          ],
          "name": "stdout"
        }
      ]
    },
    {
      "cell_type": "code",
      "metadata": {
        "id": "Vq7iFx3HuIrl",
        "colab_type": "code",
        "colab": {}
      },
      "source": [
        "f = h5py.File('./smtp.mat','r')\n",
        "X = f.get('X')\n",
        "y = f.get('y')\n",
        "X = np.array(X) # For converting to a NumPy array\n",
        "y = np.array(y)"
      ],
      "execution_count": 39,
      "outputs": []
    },
    {
      "cell_type": "code",
      "metadata": {
        "id": "gHA2u7Oztp70",
        "colab_type": "code",
        "colab": {
          "base_uri": "https://localhost:8080/",
          "height": 419
        },
        "outputId": "25b8d787-dccf-4e8d-fa72-9c2c574c42ed"
      },
      "source": [
        "df = pd.DataFrame(X).T\n",
        "label = pd.DataFrame(y).T\n",
        "df['label'] = label[0].values\n",
        "df.label = df.label.astype('int64')\n",
        "df"
      ],
      "execution_count": 40,
      "outputs": [
        {
          "output_type": "execute_result",
          "data": {
            "text/html": [
              "<div>\n",
              "<style scoped>\n",
              "    .dataframe tbody tr th:only-of-type {\n",
              "        vertical-align: middle;\n",
              "    }\n",
              "\n",
              "    .dataframe tbody tr th {\n",
              "        vertical-align: top;\n",
              "    }\n",
              "\n",
              "    .dataframe thead th {\n",
              "        text-align: right;\n",
              "    }\n",
              "</style>\n",
              "<table border=\"1\" class=\"dataframe\">\n",
              "  <thead>\n",
              "    <tr style=\"text-align: right;\">\n",
              "      <th></th>\n",
              "      <th>0</th>\n",
              "      <th>1</th>\n",
              "      <th>2</th>\n",
              "      <th>label</th>\n",
              "    </tr>\n",
              "  </thead>\n",
              "  <tbody>\n",
              "    <tr>\n",
              "      <th>0</th>\n",
              "      <td>0.095310</td>\n",
              "      <td>7.095976</td>\n",
              "      <td>5.796362</td>\n",
              "      <td>0</td>\n",
              "    </tr>\n",
              "    <tr>\n",
              "      <th>1</th>\n",
              "      <td>0.095310</td>\n",
              "      <td>7.426013</td>\n",
              "      <td>5.808443</td>\n",
              "      <td>0</td>\n",
              "    </tr>\n",
              "    <tr>\n",
              "      <th>2</th>\n",
              "      <td>-2.302585</td>\n",
              "      <td>6.886634</td>\n",
              "      <td>5.799396</td>\n",
              "      <td>0</td>\n",
              "    </tr>\n",
              "    <tr>\n",
              "      <th>3</th>\n",
              "      <td>0.095310</td>\n",
              "      <td>7.336351</td>\n",
              "      <td>5.784133</td>\n",
              "      <td>0</td>\n",
              "    </tr>\n",
              "    <tr>\n",
              "      <th>4</th>\n",
              "      <td>0.095310</td>\n",
              "      <td>7.441965</td>\n",
              "      <td>5.787204</td>\n",
              "      <td>0</td>\n",
              "    </tr>\n",
              "    <tr>\n",
              "      <th>...</th>\n",
              "      <td>...</td>\n",
              "      <td>...</td>\n",
              "      <td>...</td>\n",
              "      <td>...</td>\n",
              "    </tr>\n",
              "    <tr>\n",
              "      <th>95151</th>\n",
              "      <td>-2.302585</td>\n",
              "      <td>6.582164</td>\n",
              "      <td>5.802420</td>\n",
              "      <td>0</td>\n",
              "    </tr>\n",
              "    <tr>\n",
              "      <th>95152</th>\n",
              "      <td>0.095310</td>\n",
              "      <td>7.282142</td>\n",
              "      <td>5.805436</td>\n",
              "      <td>0</td>\n",
              "    </tr>\n",
              "    <tr>\n",
              "      <th>95153</th>\n",
              "      <td>-2.302585</td>\n",
              "      <td>6.734711</td>\n",
              "      <td>5.799396</td>\n",
              "      <td>0</td>\n",
              "    </tr>\n",
              "    <tr>\n",
              "      <th>95154</th>\n",
              "      <td>0.095310</td>\n",
              "      <td>6.918794</td>\n",
              "      <td>5.808443</td>\n",
              "      <td>0</td>\n",
              "    </tr>\n",
              "    <tr>\n",
              "      <th>95155</th>\n",
              "      <td>0.095310</td>\n",
              "      <td>6.602724</td>\n",
              "      <td>5.802420</td>\n",
              "      <td>0</td>\n",
              "    </tr>\n",
              "  </tbody>\n",
              "</table>\n",
              "<p>95156 rows × 4 columns</p>\n",
              "</div>"
            ],
            "text/plain": [
              "              0         1         2  label\n",
              "0      0.095310  7.095976  5.796362      0\n",
              "1      0.095310  7.426013  5.808443      0\n",
              "2     -2.302585  6.886634  5.799396      0\n",
              "3      0.095310  7.336351  5.784133      0\n",
              "4      0.095310  7.441965  5.787204      0\n",
              "...         ...       ...       ...    ...\n",
              "95151 -2.302585  6.582164  5.802420      0\n",
              "95152  0.095310  7.282142  5.805436      0\n",
              "95153 -2.302585  6.734711  5.799396      0\n",
              "95154  0.095310  6.918794  5.808443      0\n",
              "95155  0.095310  6.602724  5.802420      0\n",
              "\n",
              "[95156 rows x 4 columns]"
            ]
          },
          "metadata": {
            "tags": []
          },
          "execution_count": 40
        }
      ]
    },
    {
      "cell_type": "code",
      "metadata": {
        "id": "fwjAkCePuXrk",
        "colab_type": "code",
        "colab": {
          "base_uri": "https://localhost:8080/",
          "height": 265
        },
        "outputId": "175b7bf4-78a1-4153-9dcb-367477cfbe88"
      },
      "source": [
        "from mpl_toolkits.mplot3d import Axes3D\n",
        "fig = plt.figure()\n",
        "ax = fig.add_subplot(111, projection='3d')\n",
        "ax.scatter(df[0],df[1],df[2],c=df['label'],cmap='Paired')\n",
        "#ax.scatter(df[0],df[1],df[2],cmap='Paired')"
      ],
      "execution_count": 41,
      "outputs": [
        {
          "output_type": "execute_result",
          "data": {
            "text/plain": [
              "<mpl_toolkits.mplot3d.art3d.Path3DCollection at 0x7efd4b659208>"
            ]
          },
          "metadata": {
            "tags": []
          },
          "execution_count": 41
        },
        {
          "output_type": "display_data",
          "data": {
            "image/png": "[encoded data removed]",
            "text/plain": [
              "<Figure size 432x288 with 1 Axes>"
            ]
          },
          "metadata": {
            "tags": [],
            "needs_background": "light"
          }
        }
      ]
    },
    {
      "cell_type": "code",
      "metadata": {
        "id": "bjqnEM11urNv",
        "colab_type": "code",
        "colab": {
          "base_uri": "https://localhost:8080/",
          "height": 297
        },
        "outputId": "e889d128-0c19-431a-c35f-ffc10af84fc7"
      },
      "source": [
        "df.describe()"
      ],
      "execution_count": 42,
      "outputs": [
        {
          "output_type": "execute_result",
          "data": {
            "text/html": [
              "<div>\n",
              "<style scoped>\n",
              "    .dataframe tbody tr th:only-of-type {\n",
              "        vertical-align: middle;\n",
              "    }\n",
              "\n",
              "    .dataframe tbody tr th {\n",
              "        vertical-align: top;\n",
              "    }\n",
              "\n",
              "    .dataframe thead th {\n",
              "        text-align: right;\n",
              "    }\n",
              "</style>\n",
              "<table border=\"1\" class=\"dataframe\">\n",
              "  <thead>\n",
              "    <tr style=\"text-align: right;\">\n",
              "      <th></th>\n",
              "      <th>0</th>\n",
              "      <th>1</th>\n",
              "      <th>2</th>\n",
              "      <th>label</th>\n",
              "    </tr>\n",
              "  </thead>\n",
              "  <tbody>\n",
              "    <tr>\n",
              "      <th>count</th>\n",
              "      <td>95156.000000</td>\n",
              "      <td>95156.000000</td>\n",
              "      <td>95156.000000</td>\n",
              "      <td>95156.000000</td>\n",
              "    </tr>\n",
              "    <tr>\n",
              "      <th>mean</th>\n",
              "      <td>-0.668439</td>\n",
              "      <td>7.190579</td>\n",
              "      <td>5.858137</td>\n",
              "      <td>0.000315</td>\n",
              "    </tr>\n",
              "    <tr>\n",
              "      <th>std</th>\n",
              "      <td>1.762620</td>\n",
              "      <td>0.630525</td>\n",
              "      <td>0.234866</td>\n",
              "      <td>0.017753</td>\n",
              "    </tr>\n",
              "    <tr>\n",
              "      <th>min</th>\n",
              "      <td>-2.302585</td>\n",
              "      <td>-2.302585</td>\n",
              "      <td>-2.302585</td>\n",
              "      <td>0.000000</td>\n",
              "    </tr>\n",
              "    <tr>\n",
              "      <th>25%</th>\n",
              "      <td>-2.302585</td>\n",
              "      <td>6.800281</td>\n",
              "      <td>5.796362</td>\n",
              "      <td>0.000000</td>\n",
              "    </tr>\n",
              "    <tr>\n",
              "      <th>50%</th>\n",
              "      <td>0.095310</td>\n",
              "      <td>7.101758</td>\n",
              "      <td>5.805436</td>\n",
              "      <td>0.000000</td>\n",
              "    </tr>\n",
              "    <tr>\n",
              "      <th>75%</th>\n",
              "      <td>0.741937</td>\n",
              "      <td>7.439618</td>\n",
              "      <td>5.820380</td>\n",
              "      <td>0.000000</td>\n",
              "    </tr>\n",
              "    <tr>\n",
              "      <th>max</th>\n",
              "      <td>6.815750</td>\n",
              "      <td>12.432320</td>\n",
              "      <td>10.902723</td>\n",
              "      <td>1.000000</td>\n",
              "    </tr>\n",
              "  </tbody>\n",
              "</table>\n",
              "</div>"
            ],
            "text/plain": [
              "                  0             1             2         label\n",
              "count  95156.000000  95156.000000  95156.000000  95156.000000\n",
              "mean      -0.668439      7.190579      5.858137      0.000315\n",
              "std        1.762620      0.630525      0.234866      0.017753\n",
              "min       -2.302585     -2.302585     -2.302585      0.000000\n",
              "25%       -2.302585      6.800281      5.796362      0.000000\n",
              "50%        0.095310      7.101758      5.805436      0.000000\n",
              "75%        0.741937      7.439618      5.820380      0.000000\n",
              "max        6.815750     12.432320     10.902723      1.000000"
            ]
          },
          "metadata": {
            "tags": []
          },
          "execution_count": 42
        }
      ]
    },
    {
      "cell_type": "code",
      "metadata": {
        "id": "9Cj26iRaAtcg",
        "colab_type": "code",
        "colab": {}
      },
      "source": [
        "from sklearn.cluster import DBSCAN\n",
        "#from sklearn.utils.random import sample_without_replacement\n",
        "from sklearn.model_selection import train_test_split"
      ],
      "execution_count": 43,
      "outputs": []
    },
    {
      "cell_type": "code",
      "metadata": {
        "id": "D3WpjMD94FPo",
        "colab_type": "code",
        "colab": {
          "base_uri": "https://localhost:8080/",
          "height": 34
        },
        "outputId": "23dc0470-b050-4f21-8177-16a7fa3441de"
      },
      "source": [
        "df2 = df.drop(['label'],axis=1).values\n",
        "df2.shape"
      ],
      "execution_count": 44,
      "outputs": [
        {
          "output_type": "execute_result",
          "data": {
            "text/plain": [
              "(95156, 3)"
            ]
          },
          "metadata": {
            "tags": []
          },
          "execution_count": 44
        }
      ]
    },
    {
      "cell_type": "code",
      "metadata": {
        "id": "FVbHG7Xc3ZZw",
        "colab_type": "code",
        "colab": {}
      },
      "source": [
        "#clustering = DBSCAN(eps=1, min_samples=2).fit(df2)"
      ],
      "execution_count": 45,
      "outputs": []
    },
    {
      "cell_type": "markdown",
      "metadata": {
        "id": "eFS3w64KU7_x",
        "colab_type": "text"
      },
      "source": [
        "# แบ่งกลุ่ม Train Test เนื่องจาก Ram ไม่พอ"
      ]
    },
    {
      "cell_type": "code",
      "metadata": {
        "id": "FAKrHUe56HF_",
        "colab_type": "code",
        "colab": {}
      },
      "source": [
        "X_train, X_test, y_train, y_test = train_test_split(df2, df['label'].values, test_size=0.33, random_state=42)"
      ],
      "execution_count": 46,
      "outputs": []
    },
    {
      "cell_type": "code",
      "metadata": {
        "id": "llOyaSBq8QFK",
        "colab_type": "code",
        "colab": {
          "base_uri": "https://localhost:8080/",
          "height": 68
        },
        "outputId": "dafd3241-ea04-443a-fef6-e76283f106cb"
      },
      "source": [
        "pd.DataFrame(y_test)[0].value_counts()\n",
        "pd.DataFrame(y_train)[0].value_counts()"
      ],
      "execution_count": 47,
      "outputs": [
        {
          "output_type": "execute_result",
          "data": {
            "text/plain": [
              "0    63733\n",
              "1       21\n",
              "Name: 0, dtype: int64"
            ]
          },
          "metadata": {
            "tags": []
          },
          "execution_count": 47
        }
      ]
    },
    {
      "cell_type": "code",
      "metadata": {
        "id": "b8lUHhGX9ZuS",
        "colab_type": "code",
        "colab": {
          "base_uri": "https://localhost:8080/",
          "height": 265
        },
        "outputId": "aaa37117-de2c-4a33-cc04-334bf1061043"
      },
      "source": [
        "from mpl_toolkits.mplot3d import Axes3D\n",
        "fig = plt.figure()\n",
        "ax = fig.add_subplot(111, projection='3d')\n",
        "ax.scatter(X_test.T[0],X_test.T[1],X_test.T[2],c=y_test,cmap='Paired')"
      ],
      "execution_count": 48,
      "outputs": [
        {
          "output_type": "execute_result",
          "data": {
            "text/plain": [
              "<mpl_toolkits.mplot3d.art3d.Path3DCollection at 0x7efd3c340c50>"
            ]
          },
          "metadata": {
            "tags": []
          },
          "execution_count": 48
        },
        {
          "output_type": "display_data",
          "data": {
            "image/png": "[encoded data removed]",
            "text/plain": [
              "<Figure size 432x288 with 1 Axes>"
            ]
          },
          "metadata": {
            "tags": [],
            "needs_background": "light"
          }
        }
      ]
    },
    {
      "cell_type": "code",
      "metadata": {
        "id": "eBrUBsQDjmjS",
        "colab_type": "code",
        "colab": {}
      },
      "source": [
        "clustering = DBSCAN(eps=0.5, min_samples=2).fit(X_test)"
      ],
      "execution_count": 49,
      "outputs": []
    },
    {
      "cell_type": "code",
      "metadata": {
        "id": "VmsqYoc_kdd6",
        "colab_type": "code",
        "colab": {
          "base_uri": "https://localhost:8080/",
          "height": 34
        },
        "outputId": "96b33b23-0066-4a63-84e1-cfaab47a7bf6"
      },
      "source": [
        "clustering.labels_"
      ],
      "execution_count": 50,
      "outputs": [
        {
          "output_type": "execute_result",
          "data": {
            "text/plain": [
              "array([0, 0, 1, ..., 1, 1, 0])"
            ]
          },
          "metadata": {
            "tags": []
          },
          "execution_count": 50
        }
      ]
    },
    {
      "cell_type": "code",
      "metadata": {
        "id": "lQfQ3L-RkgCm",
        "colab_type": "code",
        "colab": {
          "base_uri": "https://localhost:8080/",
          "height": 265
        },
        "outputId": "c21fe559-27dd-401c-ebc8-46265a4551b9"
      },
      "source": [
        "fig = plt.figure()\n",
        "ax = fig.add_subplot(111, projection='3d')\n",
        "ax.scatter(X_test.T[0],X_test.T[1],X_test.T[2],c=clustering.labels_,cmap='Paired')"
      ],
      "execution_count": 51,
      "outputs": [
        {
          "output_type": "execute_result",
          "data": {
            "text/plain": [
              "<mpl_toolkits.mplot3d.art3d.Path3DCollection at 0x7efd3bbd71d0>"
            ]
          },
          "metadata": {
            "tags": []
          },
          "execution_count": 51
        },
        {
          "output_type": "display_data",
          "data": {
            "image/png": "[encoded data removed]",
            "text/plain": [
              "<Figure size 432x288 with 1 Axes>"
            ]
          },
          "metadata": {
            "tags": [],
            "needs_background": "light"
          }
        }
      ]
    },
    {
      "cell_type": "code",
      "metadata": {
        "id": "IBd8XYWVk8Xx",
        "colab_type": "code",
        "colab": {
          "base_uri": "https://localhost:8080/",
          "height": 289
        },
        "outputId": "55d3cc8c-898c-4dd9-e161-2916208c4117"
      },
      "source": [
        "cluster = pd.DataFrame(clustering.labels_)[0].value_counts()\n",
        "cluster"
      ],
      "execution_count": 52,
      "outputs": [
        {
          "output_type": "execute_result",
          "data": {
            "text/plain": [
              " 0     15482\n",
              " 2      8198\n",
              " 1      7154\n",
              " 3       432\n",
              " 4        93\n",
              "-1        13\n",
              " 8         5\n",
              " 9         4\n",
              " 7         4\n",
              " 6         4\n",
              " 11        3\n",
              " 10        3\n",
              " 5         3\n",
              " 13        2\n",
              " 12        2\n",
              "Name: 0, dtype: int64"
            ]
          },
          "metadata": {
            "tags": []
          },
          "execution_count": 52
        }
      ]
    },
    {
      "cell_type": "code",
      "metadata": {
        "id": "WQ9iMevclEIB",
        "colab_type": "code",
        "colab": {
          "base_uri": "https://localhost:8080/",
          "height": 283
        },
        "outputId": "8e2dea29-8f36-4949-9d50-55d33078ef44"
      },
      "source": [
        "plt.plot(cluster.values,'r+')"
      ],
      "execution_count": 53,
      "outputs": [
        {
          "output_type": "execute_result",
          "data": {
            "text/plain": [
              "[<matplotlib.lines.Line2D at 0x7efd3bbd7550>]"
            ]
          },
          "metadata": {
            "tags": []
          },
          "execution_count": 53
        },
        {
          "output_type": "display_data",
          "data": {
            "image/png": "[encoded data removed]",
            "text/plain": [
              "<Figure size 432x288 with 1 Axes>"
            ]
          },
          "metadata": {
            "tags": [],
            "needs_background": "light"
          }
        }
      ]
    },
    {
      "cell_type": "code",
      "metadata": {
        "id": "2zdG1jUTVTiY",
        "colab_type": "code",
        "colab": {}
      },
      "source": [
        "result = []\n",
        "for i in clustering.labels_:\n",
        "  if i == -1:\n",
        "    result.append(1)\n",
        "  else:\n",
        "    result.append(0)"
      ],
      "execution_count": 54,
      "outputs": []
    },
    {
      "cell_type": "code",
      "metadata": {
        "id": "qLZ1cMBAVxXA",
        "colab_type": "code",
        "colab": {
          "base_uri": "https://localhost:8080/",
          "height": 34
        },
        "outputId": "accdf1b9-954e-4b71-86ee-fc0f611042a3"
      },
      "source": [
        "len(X_test)"
      ],
      "execution_count": 55,
      "outputs": [
        {
          "output_type": "execute_result",
          "data": {
            "text/plain": [
              "31402"
            ]
          },
          "metadata": {
            "tags": []
          },
          "execution_count": 55
        }
      ]
    },
    {
      "cell_type": "code",
      "metadata": {
        "id": "02MjwqEiBPd2",
        "colab_type": "code",
        "colab": {
          "base_uri": "https://localhost:8080/",
          "height": 34
        },
        "outputId": "76a7c333-b718-4012-8f9e-b8a18473e5f5"
      },
      "source": [
        "y_test[y_test  == 1]"
      ],
      "execution_count": 56,
      "outputs": [
        {
          "output_type": "execute_result",
          "data": {
            "text/plain": [
              "array([1, 1, 1, 1, 1, 1, 1, 1, 1])"
            ]
          },
          "metadata": {
            "tags": []
          },
          "execution_count": 56
        }
      ]
    },
    {
      "cell_type": "code",
      "metadata": {
        "id": "h-8sNGK2BWBi",
        "colab_type": "code",
        "colab": {}
      },
      "source": [
        "from sklearn.metrics import classification_report\n",
        "from sklearn.metrics import confusion_matrix\n",
        "from sklearn.metrics import plot_confusion_matrix"
      ],
      "execution_count": 57,
      "outputs": []
    },
    {
      "cell_type": "code",
      "metadata": {
        "id": "GpXYmW5bBltU",
        "colab_type": "code",
        "colab": {
          "base_uri": "https://localhost:8080/",
          "height": 170
        },
        "outputId": "02654023-47b1-422e-fede-636a218dec7b"
      },
      "source": [
        "print(classification_report(y_test,result))"
      ],
      "execution_count": 58,
      "outputs": [
        {
          "output_type": "stream",
          "text": [
            "              precision    recall  f1-score   support\n",
            "\n",
            "           0       1.00      1.00      1.00     31393\n",
            "           1       0.23      0.33      0.27         9\n",
            "\n",
            "    accuracy                           1.00     31402\n",
            "   macro avg       0.62      0.67      0.64     31402\n",
            "weighted avg       1.00      1.00      1.00     31402\n",
            "\n"
          ],
          "name": "stdout"
        }
      ]
    },
    {
      "cell_type": "code",
      "metadata": {
        "id": "t4qVcA55B9yv",
        "colab_type": "code",
        "colab": {}
      },
      "source": [
        "tn, fp, fn, tp = confusion_matrix(y_test,result).ravel()"
      ],
      "execution_count": 59,
      "outputs": []
    },
    {
      "cell_type": "code",
      "metadata": {
        "id": "3m_D5Xv9EWqq",
        "colab_type": "code",
        "colab": {
          "base_uri": "https://localhost:8080/",
          "height": 34
        },
        "outputId": "129a332d-4ef5-456a-fce3-bcf01905b261"
      },
      "source": [
        "print(tn, fp, fn, tp)"
      ],
      "execution_count": 60,
      "outputs": [
        {
          "output_type": "stream",
          "text": [
            "31383 10 6 3\n"
          ],
          "name": "stdout"
        }
      ]
    },
    {
      "cell_type": "code",
      "metadata": {
        "id": "GZib66p-E29k",
        "colab_type": "code",
        "colab": {}
      },
      "source": [
        ""
      ],
      "execution_count": null,
      "outputs": []
    }
  ]
}