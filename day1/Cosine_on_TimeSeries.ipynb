{
  "nbformat": 4,
  "nbformat_minor": 0,
  "metadata": {
    "kernelspec": {
      "display_name": "Python 3",
      "language": "python",
      "name": "python3"
    },
    "language_info": {
      "codemirror_mode": {
        "name": "ipython",
        "version": 3
      },
      "file_extension": ".py",
      "mimetype": "text/x-python",
      "name": "python",
      "nbconvert_exporter": "python",
      "pygments_lexer": "ipython3",
      "version": "3.7.4"
    },
    "colab": {
      "name": "Cosine_on_TimeSeries.ipynb",
      "provenance": [],
      "include_colab_link": true
    }
  },
  "cells": [
    {
      "cell_type": "markdown",
      "metadata": {
        "id": "view-in-github",
        "colab_type": "text"
      },
      "source": [
        "<a href=\"https://colab.research.google.com/github/krmonline/AnomalyDetection/blob/master/Cosine_on_TimeSeries.ipynb\" target=\"_parent\"><img src=\"https://colab.research.google.com/assets/colab-badge.svg\" alt=\"Open In Colab\"/></a>"
      ]
    },
    {
      "cell_type": "code",
      "metadata": {
        "id": "JoclKojGy7qS",
        "colab_type": "code",
        "colab": {}
      },
      "source": [
        "import requests\n",
        "from datetime import datetime\n",
        "import pandas as pd\n",
        "import matplotlib.pyplot as plt\n",
        "from sklearn.metrics.pairwise import cosine_similarity\n",
        "import numpy as np"
      ],
      "execution_count": 1,
      "outputs": []
    },
    {
      "cell_type": "code",
      "metadata": {
        "id": "sJbMsuH7y7qX",
        "colab_type": "code",
        "colab": {
          "base_uri": "https://localhost:8080/",
          "height": 34
        },
        "outputId": "2a80cfa4-c930-4d15-9f79-b85a2ca9d178"
      },
      "source": [
        "a = np.array([1,2,3,4,5,6,7,7,7,7])\n",
        "b = np.array([5,5,6,6,7,7,8,8,8,9])\n",
        "\n",
        "print(a,b)"
      ],
      "execution_count": 10,
      "outputs": [
        {
          "output_type": "stream",
          "text": [
            "[1 2 3 4 5 6 7 7 7 7] [5 5 6 6 7 7 8 8 8 9]\n"
          ],
          "name": "stdout"
        }
      ]
    },
    {
      "cell_type": "code",
      "metadata": {
        "id": "1CVKXTdRy7qc",
        "colab_type": "code",
        "colab": {
          "base_uri": "https://localhost:8080/",
          "height": 187
        },
        "outputId": "dfc0bf41-74d0-41b6-c0d2-7f316e924f54"
      },
      "source": [
        "from sklearn.preprocessing import StandardScaler\n",
        "#inverse_transform\n",
        "sa = StandardScaler().fit(a.reshape(-1,1))\n",
        "sb = StandardScaler().fit(b.reshape(-1,1))\n",
        "a_Transform = sa.transform(a.reshape(-1,1))\n",
        "b_Transform = sb.transform(b.reshape(-1,1))\n",
        "print(a_Transform)\n",
        "#print(b_Transform)"
      ],
      "execution_count": 11,
      "outputs": [
        {
          "output_type": "stream",
          "text": [
            "[[-1.80085268]\n",
            " [-1.33909558]\n",
            " [-0.87733848]\n",
            " [-0.41558139]\n",
            " [ 0.04617571]\n",
            " [ 0.50793281]\n",
            " [ 0.9696899 ]\n",
            " [ 0.9696899 ]\n",
            " [ 0.9696899 ]\n",
            " [ 0.9696899 ]]\n"
          ],
          "name": "stdout"
        }
      ]
    },
    {
      "cell_type": "code",
      "metadata": {
        "id": "3jAaS9dLy7qf",
        "colab_type": "code",
        "colab": {
          "base_uri": "https://localhost:8080/",
          "height": 282
        },
        "outputId": "d1f6644c-b557-48c5-b62b-1b01b3d526bc"
      },
      "source": [
        "#print(a_Transform)\n",
        "plt.plot(a_Transform.reshape(1,-1)[0])\n",
        "plt.plot(b_Transform.reshape(1,-1)[0])"
      ],
      "execution_count": 12,
      "outputs": [
        {
          "output_type": "execute_result",
          "data": {
            "text/plain": [
              "[<matplotlib.lines.Line2D at 0x7fbc56318b70>]"
            ]
          },
          "metadata": {
            "tags": []
          },
          "execution_count": 12
        },
        {
          "output_type": "display_data",
          "data": {
            "image/png": "[encoded data removed]",
            "text/plain": [
              "<Figure size 432x288 with 1 Axes>"
            ]
          },
          "metadata": {
            "tags": [],
            "needs_background": "light"
          }
        }
      ]
    },
    {
      "cell_type": "code",
      "metadata": {
        "id": "NABW6Vu3y7qi",
        "colab_type": "code",
        "colab": {
          "base_uri": "https://localhost:8080/",
          "height": 51
        },
        "outputId": "a87901c3-c34f-43f7-fd26-8b5c1a8bbc8b"
      },
      "source": [
        "#print(a_Tranform)\n",
        "print(cosine_similarity(a_Transform.reshape(1,-1),b_Transform.reshape(1,-1)))\n",
        "print(np.corrcoef(a_Transform.reshape(1,-1),b_Transform.reshape(1,-1))[0][1])\n",
        "#print(a_Tranform)"
      ],
      "execution_count": 13,
      "outputs": [
        {
          "output_type": "stream",
          "text": [
            "[[0.95548199]]\n",
            "0.9554819920704242\n"
          ],
          "name": "stdout"
        }
      ]
    },
    {
      "cell_type": "code",
      "metadata": {
        "id": "5YUNPAT8y7ql",
        "colab_type": "code",
        "colab": {}
      },
      "source": [
        ""
      ],
      "execution_count": 5,
      "outputs": []
    }
  ]
}