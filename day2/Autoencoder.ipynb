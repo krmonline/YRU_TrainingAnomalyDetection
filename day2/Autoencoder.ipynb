{
  "nbformat": 4,
  "nbformat_minor": 0,
  "metadata": {
    "colab": {
      "name": "Autoencoder.ipynb",
      "provenance": [],
      "authorship_tag": "ABX9TyPov9jn6+/gqE8k5diocm15",
      "include_colab_link": true
    },
    "kernelspec": {
      "name": "python3",
      "display_name": "Python 3"
    }
  },
  "cells": [
    {
      "cell_type": "markdown",
      "metadata": {
        "id": "view-in-github",
        "colab_type": "text"
      },
      "source": [
        "<a href=\"https://colab.research.google.com/github/krmonline/AnomalyDetection/blob/master/Autoencoder.ipynb\" target=\"_parent\"><img src=\"https://colab.research.google.com/assets/colab-badge.svg\" alt=\"Open In Colab\"/></a>"
      ]
    },
    {
      "cell_type": "code",
      "metadata": {
        "id": "u_nZrZ0eDzQl",
        "colab_type": "code",
        "colab": {}
      },
      "source": [
        "import  tensorflow as tf\n",
        "import numpy as np\n",
        "from sklearn.metrics import mean_squared_error "
      ],
      "execution_count": 1,
      "outputs": []
    },
    {
      "cell_type": "code",
      "metadata": {
        "id": "vN5a0S6-D1en",
        "colab_type": "code",
        "colab": {
          "base_uri": "https://localhost:8080/",
          "height": 153
        },
        "outputId": "47eacbc6-c65c-4e53-d71a-b7ec9da3ad24"
      },
      "source": [
        "x = [0,1,2,3,4,5,6,7]\n",
        "X = tf.keras.utils.to_categorical(x)\n",
        "X"
      ],
      "execution_count": 15,
      "outputs": [
        {
          "output_type": "execute_result",
          "data": {
            "text/plain": [
              "array([[1., 0., 0., 0., 0., 0., 0., 0.],\n",
              "       [0., 1., 0., 0., 0., 0., 0., 0.],\n",
              "       [0., 0., 1., 0., 0., 0., 0., 0.],\n",
              "       [0., 0., 0., 1., 0., 0., 0., 0.],\n",
              "       [0., 0., 0., 0., 1., 0., 0., 0.],\n",
              "       [0., 0., 0., 0., 0., 1., 0., 0.],\n",
              "       [0., 0., 0., 0., 0., 0., 1., 0.],\n",
              "       [0., 0., 0., 0., 0., 0., 0., 1.]], dtype=float32)"
            ]
          },
          "metadata": {
            "tags": []
          },
          "execution_count": 15
        }
      ]
    },
    {
      "cell_type": "code",
      "metadata": {
        "id": "1y2LkxRQETdI",
        "colab_type": "code",
        "colab": {}
      },
      "source": [
        "inputs = tf.keras.Input(shape=X.shape[1])\n",
        "encoder = tf.keras.layers.Dense(3, activation='sigmoid')\n",
        "decoder = tf.keras.layers.Dense(X.shape[1], activation='sigmoid')\n",
        "outputs = decoder(encoder(inputs))\n",
        "model = tf.keras.Model(inputs,outputs)"
      ],
      "execution_count": 16,
      "outputs": []
    },
    {
      "cell_type": "code",
      "metadata": {
        "id": "D7OytHQnEd_6",
        "colab_type": "code",
        "colab": {}
      },
      "source": [
        "model.compile(loss=tf.keras.losses.MeanSquaredError(),\n",
        "              optimizer=tf.keras.optimizers.SGD(learning_rate=3.5))"
      ],
      "execution_count": 17,
      "outputs": []
    },
    {
      "cell_type": "code",
      "metadata": {
        "id": "YbAM0DCNEhkh",
        "colab_type": "code",
        "colab": {
          "base_uri": "https://localhost:8080/",
          "height": 34
        },
        "outputId": "30eec7be-f483-4c26-ba1b-ef8ce3f0e244"
      },
      "source": [
        "model.fit(X,X,epochs=2000,verbose=0)"
      ],
      "execution_count": 70,
      "outputs": [
        {
          "output_type": "execute_result",
          "data": {
            "text/plain": [
              "<tensorflow.python.keras.callbacks.History at 0x7f7ceff4ae10>"
            ]
          },
          "metadata": {
            "tags": []
          },
          "execution_count": 70
        }
      ]
    },
    {
      "cell_type": "code",
      "metadata": {
        "id": "B7YdJyMoG-h9",
        "colab_type": "code",
        "colab": {
          "base_uri": "https://localhost:8080/",
          "height": 68
        },
        "outputId": "6792ee25-0fa6-41a0-c857-9bd136d4772c"
      },
      "source": [
        "pred = model.predict(np.array([[0., 1., 0., 0., 0., 0., 0., 0.]]))\n",
        "print(pred)\n",
        "print(np.round(pred))"
      ],
      "execution_count": 71,
      "outputs": [
        {
          "output_type": "stream",
          "text": [
            "[[1.0024011e-03 8.8290018e-01 9.2455745e-04 8.0137193e-02 2.5001941e-06\n",
            "  7.5644404e-02 5.0887555e-02 5.4100972e-05]]\n",
            "[[0. 1. 0. 0. 0. 0. 0. 0.]]\n"
          ],
          "name": "stdout"
        }
      ]
    },
    {
      "cell_type": "code",
      "metadata": {
        "id": "Wq7BrxTcElCY",
        "colab_type": "code",
        "colab": {}
      },
      "source": [
        "z = np.round(model(X))"
      ],
      "execution_count": 72,
      "outputs": []
    },
    {
      "cell_type": "code",
      "metadata": {
        "id": "ZYjJVYAIEseV",
        "colab_type": "code",
        "colab": {
          "base_uri": "https://localhost:8080/",
          "height": 153
        },
        "outputId": "b986c094-8aca-4f75-93d4-052e9b976da0"
      },
      "source": [
        "z"
      ],
      "execution_count": 73,
      "outputs": [
        {
          "output_type": "execute_result",
          "data": {
            "text/plain": [
              "array([[1., 0., 0., 0., 0., 0., 0., 0.],\n",
              "       [0., 1., 0., 0., 0., 0., 0., 0.],\n",
              "       [0., 0., 1., 0., 0., 0., 0., 0.],\n",
              "       [0., 0., 0., 1., 0., 0., 0., 0.],\n",
              "       [0., 0., 0., 0., 1., 0., 0., 0.],\n",
              "       [0., 0., 0., 0., 0., 1., 0., 0.],\n",
              "       [0., 0., 0., 0., 0., 0., 1., 0.],\n",
              "       [0., 0., 0., 0., 0., 0., 0., 1.]], dtype=float32)"
            ]
          },
          "metadata": {
            "tags": []
          },
          "execution_count": 73
        }
      ]
    },
    {
      "cell_type": "code",
      "metadata": {
        "id": "31Ot1xnqEu3M",
        "colab_type": "code",
        "colab": {
          "base_uri": "https://localhost:8080/",
          "height": 170
        },
        "outputId": "40123541-ccdd-4fd1-96ea-53fffe0020d0"
      },
      "source": [
        "encoder(X)"
      ],
      "execution_count": 74,
      "outputs": [
        {
          "output_type": "execute_result",
          "data": {
            "text/plain": [
              "<tf.Tensor: shape=(8, 3), dtype=float32, numpy=\n",
              "array([[0.9524715 , 0.9635762 , 0.01263168],\n",
              "       [0.01338285, 0.98836184, 0.7966691 ],\n",
              "       [0.12841552, 0.01613548, 0.11676043],\n",
              "       [0.9819336 , 0.97270596, 0.9803817 ],\n",
              "       [0.9748137 , 0.08331805, 0.11791453],\n",
              "       [0.01990184, 0.23579267, 0.9585848 ],\n",
              "       [0.04617923, 0.7569177 , 0.01393664],\n",
              "       [0.81826794, 0.01202166, 0.973783  ]], dtype=float32)>"
            ]
          },
          "metadata": {
            "tags": []
          },
          "execution_count": 74
        }
      ]
    },
    {
      "cell_type": "code",
      "metadata": {
        "id": "FFW6nNw1ExI1",
        "colab_type": "code",
        "colab": {
          "base_uri": "https://localhost:8080/",
          "height": 153
        },
        "outputId": "45f419a5-19c0-419b-f0c6-9fdec2bffc79"
      },
      "source": [
        "np.round(encoder(X))"
      ],
      "execution_count": 75,
      "outputs": [
        {
          "output_type": "execute_result",
          "data": {
            "text/plain": [
              "array([[1., 1., 0.],\n",
              "       [0., 1., 1.],\n",
              "       [0., 0., 0.],\n",
              "       [1., 1., 1.],\n",
              "       [1., 0., 0.],\n",
              "       [0., 0., 1.],\n",
              "       [0., 1., 0.],\n",
              "       [1., 0., 1.]], dtype=float32)"
            ]
          },
          "metadata": {
            "tags": []
          },
          "execution_count": 75
        }
      ]
    },
    {
      "cell_type": "code",
      "metadata": {
        "id": "hbMoa4OQE0WV",
        "colab_type": "code",
        "colab": {
          "base_uri": "https://localhost:8080/",
          "height": 85
        },
        "outputId": "8416af20-99fb-47e4-d9d2-c7a0d940f80e"
      },
      "source": [
        "x_test = np.array([[0,0,0]])\n",
        "result =  decoder(x_test)\n",
        "print(result)\n",
        "print(np.round(result))"
      ],
      "execution_count": 78,
      "outputs": [
        {
          "output_type": "stream",
          "text": [
            "tf.Tensor(\n",
            "[[2.28142738e-03 1.06957555e-03 9.47694898e-01 7.18324736e-05\n",
            "  6.73275590e-02 1.11555606e-01 3.86252165e-01 5.02637029e-03]], shape=(1, 8), dtype=float32)\n",
            "[[0. 0. 1. 0. 0. 0. 0. 0.]]\n"
          ],
          "name": "stdout"
        }
      ]
    },
    {
      "cell_type": "code",
      "metadata": {
        "id": "Ye0oCcoiFQm7",
        "colab_type": "code",
        "colab": {}
      },
      "source": [
        ""
      ],
      "execution_count": null,
      "outputs": []
    }
  ]
}